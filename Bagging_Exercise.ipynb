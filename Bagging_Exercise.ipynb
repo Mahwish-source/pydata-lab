{
  "nbformat": 4,
  "nbformat_minor": 0,
  "metadata": {
    "colab": {
      "provenance": [],
      "authorship_tag": "ABX9TyPdHZP0HN75R6+xDI7ii2kv",
      "include_colab_link": true
    },
    "kernelspec": {
      "name": "python3",
      "display_name": "Python 3"
    },
    "language_info": {
      "name": "python"
    }
  },
  "cells": [
    {
      "cell_type": "markdown",
      "metadata": {
        "id": "view-in-github",
        "colab_type": "text"
      },
      "source": [
        "<a href=\"https://colab.research.google.com/github/Mahwish-source/pydata-lab/blob/main/Bagging_Exercise.ipynb\" target=\"_parent\"><img src=\"https://colab.research.google.com/assets/colab-badge.svg\" alt=\"Open In Colab\"/></a>"
      ]
    },
    {
      "cell_type": "code",
      "source": [
        "import pandas as pd\n",
        "import numpy as np\n",
        "from scipy import stats\n",
        "from sklearn.model_selection import train_test_split\n",
        "from sklearn.preprocessing import StandardScaler\n",
        "from sklearn.svm import SVC\n",
        "from sklearn.tree import DecisionTreeClassifier\n",
        "from sklearn.ensemble import BaggingClassifier\n",
        "from sklearn.metrics import accuracy_score, classification_report"
      ],
      "metadata": {
        "id": "wC1O4iEekFQw"
      },
      "execution_count": 13,
      "outputs": []
    },
    {
      "cell_type": "code",
      "source": [
        "df = pd.read_csv(\"heart.csv\")\n",
        "print(\"Original dataset shape:\", df.shape)"
      ],
      "metadata": {
        "colab": {
          "base_uri": "https://localhost:8080/"
        },
        "id": "bWYjOBdZkQtv",
        "outputId": "6c588e4a-ddd0-411f-b7ea-d8cb5971e3c9"
      },
      "execution_count": 15,
      "outputs": [
        {
          "output_type": "stream",
          "name": "stdout",
          "text": [
            "Original dataset shape: (918, 12)\n"
          ]
        }
      ]
    },
    {
      "cell_type": "code",
      "source": [
        "numeric_cols = df.select_dtypes(include=[np.number]).columns\n",
        "df_no_outliers = df[(np.abs(stats.zscore(df[numeric_cols])) < 3).all(axis=1)]\n",
        "print(\"Shape after outlier removal:\", df_no_outliers.shape)"
      ],
      "metadata": {
        "colab": {
          "base_uri": "https://localhost:8080/"
        },
        "id": "7yahm9ZvkYNS",
        "outputId": "0663cfa0-3d3d-4249-d86d-c6f526a5ba5d"
      },
      "execution_count": 16,
      "outputs": [
        {
          "output_type": "stream",
          "name": "stdout",
          "text": [
            "Shape after outlier removal: (899, 12)\n"
          ]
        }
      ]
    },
    {
      "cell_type": "code",
      "source": [
        "categorical_cols = df_no_outliers.select_dtypes(include=['object', 'category']).columns"
      ],
      "metadata": {
        "id": "abWGLQZ3kf_j"
      },
      "execution_count": 17,
      "outputs": []
    },
    {
      "cell_type": "code",
      "source": [
        "df_encoded = pd.get_dummies(df_no_outliers, columns=categorical_cols, drop_first=True)"
      ],
      "metadata": {
        "id": "r3AxXioXklCp"
      },
      "execution_count": 18,
      "outputs": []
    },
    {
      "cell_type": "code",
      "source": [
        "target_col = 'HeartDisease'\n",
        "X = df_encoded.drop(columns=[target_col])\n",
        "y = df_encoded[target_col]\n",
        "scaler = StandardScaler()\n",
        "X_scaled = scaler.fit_transform(X)\n"
      ],
      "metadata": {
        "id": "oSXFKHJrkpGF"
      },
      "execution_count": 21,
      "outputs": []
    },
    {
      "cell_type": "code",
      "source": [
        "X_train, X_test, y_train, y_test = train_test_split(\n",
        "    X_scaled, y, test_size=0.2, random_state=42\n",
        ")"
      ],
      "metadata": {
        "id": "So_jc0M4lIca"
      },
      "execution_count": 22,
      "outputs": []
    },
    {
      "cell_type": "code",
      "source": [
        "svm = SVC(random_state=42)\n",
        "svm.fit(X_train, y_train)\n",
        "svm_preds = svm.predict(X_test)\n",
        "print(\"\\nSVM Standalone Accuracy:\", accuracy_score(y_test, svm_preds))\n",
        "print(classification_report(y_test, svm_preds))"
      ],
      "metadata": {
        "colab": {
          "base_uri": "https://localhost:8080/"
        },
        "id": "5d8mtI5_lNCV",
        "outputId": "4ebdaeee-8a22-4e0c-98a3-6ef203a4ab5e"
      },
      "execution_count": 23,
      "outputs": [
        {
          "output_type": "stream",
          "name": "stdout",
          "text": [
            "\n",
            "SVM Standalone Accuracy: 0.8888888888888888\n",
            "              precision    recall  f1-score   support\n",
            "\n",
            "           0       0.97      0.79      0.87        86\n",
            "           1       0.84      0.98      0.90        94\n",
            "\n",
            "    accuracy                           0.89       180\n",
            "   macro avg       0.90      0.88      0.89       180\n",
            "weighted avg       0.90      0.89      0.89       180\n",
            "\n"
          ]
        }
      ]
    },
    {
      "source": [
        "svm = SVC(random_state=42)\n",
        "svm.fit(X_train, y_train)\n",
        "svm_preds = svm.predict(X_test)\n",
        "print(\"\\nSVM Standalone Accuracy:\", accuracy_score(y_test, svm_preds))\n",
        "print(classification_report(y_test, svm_preds))\n",
        "# %%\n",
        "# Changed base_estimator to estimator due to scikit-learn version update\n",
        "svm_bagging = BaggingClassifier(estimator=SVC(), n_estimators=10, random_state=42)\n",
        "svm_bagging.fit(X_train, y_train)\n",
        "svm_bag_preds = svm_bagging.predict(X_test)\n",
        "print(\"SVM Bagging Accuracy:\", accuracy_score(y_test, svm_bag_preds))\n",
        "print(classification_report(y_test, svm_bag_preds))"
      ],
      "cell_type": "code",
      "metadata": {
        "colab": {
          "base_uri": "https://localhost:8080/"
        },
        "id": "c2ftOToXlewk",
        "outputId": "5d6998f4-97a0-44c5-a663-aa82a1dfdf25"
      },
      "execution_count": 26,
      "outputs": [
        {
          "output_type": "stream",
          "name": "stdout",
          "text": [
            "\n",
            "SVM Standalone Accuracy: 0.8888888888888888\n",
            "              precision    recall  f1-score   support\n",
            "\n",
            "           0       0.97      0.79      0.87        86\n",
            "           1       0.84      0.98      0.90        94\n",
            "\n",
            "    accuracy                           0.89       180\n",
            "   macro avg       0.90      0.88      0.89       180\n",
            "weighted avg       0.90      0.89      0.89       180\n",
            "\n",
            "SVM Bagging Accuracy: 0.8944444444444445\n",
            "              precision    recall  f1-score   support\n",
            "\n",
            "           0       0.95      0.83      0.88        86\n",
            "           1       0.86      0.96      0.90        94\n",
            "\n",
            "    accuracy                           0.89       180\n",
            "   macro avg       0.90      0.89      0.89       180\n",
            "weighted avg       0.90      0.89      0.89       180\n",
            "\n"
          ]
        }
      ]
    },
    {
      "cell_type": "code",
      "source": [
        "dt = DecisionTreeClassifier(random_state=42)\n",
        "dt.fit(X_train, y_train)\n",
        "dt_preds = dt.predict(X_test)\n",
        "print(\"Decision Tree Standalone Accuracy:\", accuracy_score(y_test, dt_preds))\n",
        "print(classification_report(y_test, dt_preds))"
      ],
      "metadata": {
        "colab": {
          "base_uri": "https://localhost:8080/"
        },
        "id": "FgLGJBb-lmch",
        "outputId": "ef59216f-e9db-474f-8c7f-4d34cd06b1fb"
      },
      "execution_count": 27,
      "outputs": [
        {
          "output_type": "stream",
          "name": "stdout",
          "text": [
            "Decision Tree Standalone Accuracy: 0.7777777777777778\n",
            "              precision    recall  f1-score   support\n",
            "\n",
            "           0       0.79      0.72      0.76        86\n",
            "           1       0.76      0.83      0.80        94\n",
            "\n",
            "    accuracy                           0.78       180\n",
            "   macro avg       0.78      0.78      0.78       180\n",
            "weighted avg       0.78      0.78      0.78       180\n",
            "\n"
          ]
        }
      ]
    },
    {
      "source": [
        "# Changed base_estimator to estimator due to scikit-learn version update\n",
        "dt_bagging = BaggingClassifier(estimator=DecisionTreeClassifier(), n_estimators=10, random_state=42)\n",
        "dt_bagging.fit(X_train, y_train)\n",
        "dt_bag_preds = dt_bagging.predict(X_test)\n",
        "print(\"Decision Tree Bagging Accuracy:\", accuracy_score(y_test, dt_bag_preds))\n",
        "print(classification_report(y_test, dt_bag_preds))"
      ],
      "cell_type": "code",
      "metadata": {
        "colab": {
          "base_uri": "https://localhost:8080/"
        },
        "id": "IgijN7jjl4_A",
        "outputId": "a4424d54-ab93-4f34-d8eb-34f8c0344429"
      },
      "execution_count": 29,
      "outputs": [
        {
          "output_type": "stream",
          "name": "stdout",
          "text": [
            "Decision Tree Bagging Accuracy: 0.85\n",
            "              precision    recall  f1-score   support\n",
            "\n",
            "           0       0.87      0.80      0.84        86\n",
            "           1       0.83      0.89      0.86        94\n",
            "\n",
            "    accuracy                           0.85       180\n",
            "   macro avg       0.85      0.85      0.85       180\n",
            "weighted avg       0.85      0.85      0.85       180\n",
            "\n"
          ]
        }
      ]
    }
  ]
}